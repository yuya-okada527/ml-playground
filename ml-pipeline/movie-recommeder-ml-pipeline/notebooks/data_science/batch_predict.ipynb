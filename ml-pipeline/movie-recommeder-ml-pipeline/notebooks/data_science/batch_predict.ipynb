{
 "cells": [
  {
   "cell_type": "code",
   "execution_count": 1,
   "id": "constitutional-concept",
   "metadata": {},
   "outputs": [
    {
     "name": "stdout",
     "output_type": "stream",
     "text": [
      "2021-02-14 16:34:05,825 - kedro.io.data_catalog - INFO - Loading data from `review_vectors` (PickleDataSet)...\n"
     ]
    }
   ],
   "source": [
    "review_vectors = context.catalog.load(\"review_vectors\")"
   ]
  },
  {
   "cell_type": "code",
   "execution_count": 2,
   "id": "sensitive-handy",
   "metadata": {},
   "outputs": [
    {
     "data": {
      "text/plain": [
       "117"
      ]
     },
     "execution_count": 2,
     "metadata": {},
     "output_type": "execute_result"
    }
   ],
   "source": [
    "review_vectors[\"vector\"].size"
   ]
  },
  {
   "cell_type": "code",
   "execution_count": 3,
   "id": "finished-conference",
   "metadata": {},
   "outputs": [
    {
     "data": {
      "text/html": [
       "<div>\n",
       "<style scoped>\n",
       "    .dataframe tbody tr th:only-of-type {\n",
       "        vertical-align: middle;\n",
       "    }\n",
       "\n",
       "    .dataframe tbody tr th {\n",
       "        vertical-align: top;\n",
       "    }\n",
       "\n",
       "    .dataframe thead th {\n",
       "        text-align: right;\n",
       "    }\n",
       "</style>\n",
       "<table border=\"1\" class=\"dataframe\">\n",
       "  <thead>\n",
       "    <tr style=\"text-align: right;\">\n",
       "      <th></th>\n",
       "      <th>movie_id</th>\n",
       "      <th>vector</th>\n",
       "    </tr>\n",
       "  </thead>\n",
       "  <tbody>\n",
       "    <tr>\n",
       "      <th>0</th>\n",
       "      <td>671</td>\n",
       "      <td>[0.002996429, 0.13640904, -0.11075646, -0.0629...</td>\n",
       "    </tr>\n",
       "    <tr>\n",
       "      <th>1</th>\n",
       "      <td>674</td>\n",
       "      <td>[-0.01773595, 0.15489556, -0.11077953, -0.0398...</td>\n",
       "    </tr>\n",
       "    <tr>\n",
       "      <th>2</th>\n",
       "      <td>24428</td>\n",
       "      <td>[-0.03624061, 0.13752827, -0.112296075, -0.062...</td>\n",
       "    </tr>\n",
       "    <tr>\n",
       "      <th>3</th>\n",
       "      <td>38700</td>\n",
       "      <td>[-0.04702732, 0.16806285, -0.14860155, -0.0613...</td>\n",
       "    </tr>\n",
       "    <tr>\n",
       "      <th>4</th>\n",
       "      <td>99861</td>\n",
       "      <td>[-0.023205638, 0.15370053, -0.13482602, -0.078...</td>\n",
       "    </tr>\n",
       "  </tbody>\n",
       "</table>\n",
       "</div>"
      ],
      "text/plain": [
       "   movie_id                                             vector\n",
       "0       671  [0.002996429, 0.13640904, -0.11075646, -0.0629...\n",
       "1       674  [-0.01773595, 0.15489556, -0.11077953, -0.0398...\n",
       "2     24428  [-0.03624061, 0.13752827, -0.112296075, -0.062...\n",
       "3     38700  [-0.04702732, 0.16806285, -0.14860155, -0.0613...\n",
       "4     99861  [-0.023205638, 0.15370053, -0.13482602, -0.078..."
      ]
     },
     "execution_count": 3,
     "metadata": {},
     "output_type": "execute_result"
    }
   ],
   "source": [
    "review_vectors.head()"
   ]
  },
  {
   "cell_type": "code",
   "execution_count": 8,
   "id": "combined-local",
   "metadata": {},
   "outputs": [
    {
     "data": {
      "text/plain": [
       "([0, 1, 2, 53, 6],\n",
       " [0.00020042630785610527,\n",
       "  0.10700555145740509,\n",
       "  0.13315244019031525,\n",
       "  0.13626445829868317,\n",
       "  0.13691596686840057])"
      ]
     },
     "execution_count": 8,
     "metadata": {},
     "output_type": "execute_result"
    }
   ],
   "source": [
    "from annoy import AnnoyIndex \n",
    "\n",
    "size = review_vectors[\"vector\"][0].size\n",
    "annoy_index = AnnoyIndex(size, \"angular\")\n",
    "annoy_index.set_seed(42)\n",
    "for i, vector in enumerate(review_vectors[\"vector\"]):\n",
    "    annoy_index.add_item(i, vector)\n",
    "\n",
    "annoy_index.build(10)\n",
    "\n",
    "annoy_index.get_nns_by_item(0, 5, include_distances=True)"
   ]
  },
  {
   "cell_type": "code",
   "execution_count": 10,
   "id": "cooked-worcester",
   "metadata": {},
   "outputs": [
    {
     "data": {
      "text/plain": [
       "numpy.ndarray"
      ]
     },
     "execution_count": 10,
     "metadata": {},
     "output_type": "execute_result"
    }
   ],
   "source": [
    "type(review_vectors[\"vector\"][0])"
   ]
  },
  {
   "cell_type": "code",
   "execution_count": 11,
   "id": "acute-credit",
   "metadata": {},
   "outputs": [
    {
     "data": {
      "text/plain": [
       "list"
      ]
     },
     "execution_count": 11,
     "metadata": {},
     "output_type": "execute_result"
    }
   ],
   "source": [
    "type(annoy_index.get_nns_by_item(0, 5))"
   ]
  },
  {
   "cell_type": "code",
   "execution_count": 13,
   "id": "massive-perry",
   "metadata": {},
   "outputs": [
    {
     "data": {
      "text/plain": [
       "117"
      ]
     },
     "execution_count": 13,
     "metadata": {},
     "output_type": "execute_result"
    }
   ],
   "source": [
    "len(review_vectors)"
   ]
  },
  {
   "cell_type": "code",
   "execution_count": null,
   "id": "leading-coordinator",
   "metadata": {},
   "outputs": [],
   "source": []
  }
 ],
 "metadata": {
  "kernelspec": {
   "display_name": "MovieRecommederMLPipeline",
   "language": "python",
   "name": "python3"
  },
  "language_info": {
   "codemirror_mode": {
    "name": "ipython",
    "version": 3
   },
   "file_extension": ".py",
   "mimetype": "text/x-python",
   "name": "python",
   "nbconvert_exporter": "python",
   "pygments_lexer": "ipython3",
   "version": "3.8.5"
  }
 },
 "nbformat": 4,
 "nbformat_minor": 5
}
