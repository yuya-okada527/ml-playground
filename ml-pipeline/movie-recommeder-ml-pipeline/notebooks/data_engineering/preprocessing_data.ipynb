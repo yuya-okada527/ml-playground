{
 "cells": [
  {
   "cell_type": "code",
   "execution_count": 1,
   "id": "needed-composition",
   "metadata": {},
   "outputs": [
    {
     "name": "stdout",
     "output_type": "stream",
     "text": [
      "2021-02-14 11:47:33,595 - kedro.io.data_catalog - INFO - Loading data from `reviews` (SQLQueryDataSet)...\n"
     ]
    },
    {
     "data": {
      "text/html": [
       "<div>\n",
       "<style scoped>\n",
       "    .dataframe tbody tr th:only-of-type {\n",
       "        vertical-align: middle;\n",
       "    }\n",
       "\n",
       "    .dataframe tbody tr th {\n",
       "        vertical-align: top;\n",
       "    }\n",
       "\n",
       "    .dataframe thead th {\n",
       "        text-align: right;\n",
       "    }\n",
       "</style>\n",
       "<table border=\"1\" class=\"dataframe\">\n",
       "  <thead>\n",
       "    <tr style=\"text-align: right;\">\n",
       "      <th></th>\n",
       "      <th>movie_id</th>\n",
       "      <th>review</th>\n",
       "    </tr>\n",
       "  </thead>\n",
       "  <tbody>\n",
       "    <tr>\n",
       "      <th>0</th>\n",
       "      <td>24428</td>\n",
       "      <td>With a movie like this you wonder how all of t...</td>\n",
       "    </tr>\n",
       "    <tr>\n",
       "      <th>1</th>\n",
       "      <td>124905</td>\n",
       "      <td>Muito bom.\\r\\nMas tem partes que é uma seca.</td>\n",
       "    </tr>\n",
       "    <tr>\n",
       "      <th>2</th>\n",
       "      <td>124905</td>\n",
       "      <td>Why must Hollywood scriptwriters of some genre...</td>\n",
       "    </tr>\n",
       "    <tr>\n",
       "      <th>3</th>\n",
       "      <td>124905</td>\n",
       "      <td>**Fundamentals, reception.**\\r\\n\\r\\n1. America...</td>\n",
       "    </tr>\n",
       "    <tr>\n",
       "      <th>4</th>\n",
       "      <td>198663</td>\n",
       "      <td>Another forgettable Game of Ender/Hunger Games...</td>\n",
       "    </tr>\n",
       "  </tbody>\n",
       "</table>\n",
       "</div>"
      ],
      "text/plain": [
       "   movie_id                                             review\n",
       "0     24428  With a movie like this you wonder how all of t...\n",
       "1    124905       Muito bom.\\r\\nMas tem partes que é uma seca.\n",
       "2    124905  Why must Hollywood scriptwriters of some genre...\n",
       "3    124905  **Fundamentals, reception.**\\r\\n\\r\\n1. America...\n",
       "4    198663  Another forgettable Game of Ender/Hunger Games..."
      ]
     },
     "execution_count": 1,
     "metadata": {},
     "output_type": "execute_result"
    }
   ],
   "source": [
    "context.catalog.load(\"reviews\").head()"
   ]
  },
  {
   "cell_type": "code",
   "execution_count": 4,
   "id": "civic-serbia",
   "metadata": {},
   "outputs": [
    {
     "name": "stdout",
     "output_type": "stream",
     "text": [
      "2021-02-14 11:50:45,355 - kedro.io.data_catalog - INFO - Loading data from `reviews` (SQLQueryDataSet)...\n"
     ]
    }
   ],
   "source": [
    "reviews = context.catalog.load(\"reviews\")"
   ]
  },
  {
   "cell_type": "code",
   "execution_count": 5,
   "id": "cosmetic-grave",
   "metadata": {},
   "outputs": [
    {
     "name": "stdout",
     "output_type": "stream",
     "text": [
      "<class 'pandas.core.frame.DataFrame'>\n",
      "RangeIndex: 576 entries, 0 to 575\n",
      "Data columns (total 2 columns):\n",
      " #   Column    Non-Null Count  Dtype \n",
      "---  ------    --------------  ----- \n",
      " 0   movie_id  576 non-null    int64 \n",
      " 1   review    576 non-null    object\n",
      "dtypes: int64(1), object(1)\n",
      "memory usage: 9.1+ KB\n"
     ]
    }
   ],
   "source": [
    "reviews.info()"
   ]
  },
  {
   "cell_type": "code",
   "execution_count": 9,
   "id": "empty-kennedy",
   "metadata": {},
   "outputs": [
    {
     "data": {
      "text/plain": [
       "117"
      ]
     },
     "execution_count": 9,
     "metadata": {},
     "output_type": "execute_result"
    }
   ],
   "source": [
    "len(reviews.groupby(\"movie_id\")[\"review\"].apply(list).apply(\" \".join))"
   ]
  },
  {
   "cell_type": "code",
   "execution_count": 15,
   "id": "complex-cologne",
   "metadata": {},
   "outputs": [],
   "source": [
    "concatenated_reviews = reviews.groupby(\"movie_id\")[\"review\"].apply(list).apply(\" \".join)"
   ]
  },
  {
   "cell_type": "code",
   "execution_count": 14,
   "id": "outer-ladder",
   "metadata": {},
   "outputs": [
    {
     "data": {
      "text/html": [
       "<div>\n",
       "<style scoped>\n",
       "    .dataframe tbody tr th:only-of-type {\n",
       "        vertical-align: middle;\n",
       "    }\n",
       "\n",
       "    .dataframe tbody tr th {\n",
       "        vertical-align: top;\n",
       "    }\n",
       "\n",
       "    .dataframe thead th {\n",
       "        text-align: right;\n",
       "    }\n",
       "</style>\n",
       "<table border=\"1\" class=\"dataframe\">\n",
       "  <thead>\n",
       "    <tr style=\"text-align: right;\">\n",
       "      <th></th>\n",
       "      <th>movie_id</th>\n",
       "      <th>concatenated_review</th>\n",
       "    </tr>\n",
       "    <tr>\n",
       "      <th>movie_id</th>\n",
       "      <th></th>\n",
       "      <th></th>\n",
       "    </tr>\n",
       "  </thead>\n",
       "  <tbody>\n",
       "    <tr>\n",
       "      <th>671</th>\n",
       "      <td>671</td>\n",
       "      <td>Ahh, the magic begins.\\r\\n\\r\\nHarry Potter is ...</td>\n",
       "    </tr>\n",
       "    <tr>\n",
       "      <th>674</th>\n",
       "      <td>674</td>\n",
       "      <td>Do not do so lightly! If chosen, there's no tu...</td>\n",
       "    </tr>\n",
       "    <tr>\n",
       "      <th>24428</th>\n",
       "      <td>24428</td>\n",
       "      <td>With a movie like this you wonder how all of t...</td>\n",
       "    </tr>\n",
       "    <tr>\n",
       "      <th>38700</th>\n",
       "      <td>38700</td>\n",
       "      <td>The list of what's wrong with 'Bad Boys For Li...</td>\n",
       "    </tr>\n",
       "    <tr>\n",
       "      <th>99861</th>\n",
       "      <td>99861</td>\n",
       "      <td>There is a lot going on in this movie but it a...</td>\n",
       "    </tr>\n",
       "  </tbody>\n",
       "</table>\n",
       "</div>"
      ],
      "text/plain": [
       "          movie_id                                concatenated_review\n",
       "movie_id                                                             \n",
       "671            671  Ahh, the magic begins.\\r\\n\\r\\nHarry Potter is ...\n",
       "674            674  Do not do so lightly! If chosen, there's no tu...\n",
       "24428        24428  With a movie like this you wonder how all of t...\n",
       "38700        38700  The list of what's wrong with 'Bad Boys For Li...\n",
       "99861        99861  There is a lot going on in this movie but it a..."
      ]
     },
     "execution_count": 14,
     "metadata": {},
     "output_type": "execute_result"
    }
   ],
   "source": [
    "import pandas as pd\n",
    "\n",
    "df = pd.DataFrame({\"movie_id\": concatenated_reviews.index, \"concatenated_review\": concatenated_reviews})\n",
    "df.head()"
   ]
  },
  {
   "cell_type": "code",
   "execution_count": 1,
   "id": "headed-shoulder",
   "metadata": {},
   "outputs": [
    {
     "data": {
      "text/plain": [
       "<spacy.lang.en.English at 0x11d29cb50>"
      ]
     },
     "execution_count": 1,
     "metadata": {},
     "output_type": "execute_result"
    }
   ],
   "source": [
    "import spacy\n",
    "\n",
    "nlp = spacy.load(\"en_core_web_md\")\n",
    "nlp"
   ]
  },
  {
   "cell_type": "code",
   "execution_count": 2,
   "id": "hungry-footwear",
   "metadata": {},
   "outputs": [
    {
     "data": {
      "text/plain": [
       "I say good bye, and I say hello."
      ]
     },
     "execution_count": 2,
     "metadata": {},
     "output_type": "execute_result"
    }
   ],
   "source": [
    "doc = nlp(\"I say good bye, and I say hello.\")\n",
    "doc"
   ]
  },
  {
   "cell_type": "code",
   "execution_count": 3,
   "id": "coastal-success",
   "metadata": {},
   "outputs": [
    {
     "data": {
      "text/plain": [
       "array([-6.15043044e-02,  3.08349788e-01, -4.02631998e-01, -1.97508305e-01,\n",
       "        1.46980613e-01,  6.71461970e-02,  2.30619475e-01, -4.07632917e-01,\n",
       "        2.74760136e-03,  1.88329124e+00, -3.18535417e-01, -6.03171103e-02,\n",
       "        1.76132888e-01, -1.02980934e-01, -2.79170007e-01, -5.73676936e-02,\n",
       "       -1.11593701e-01,  9.90242958e-01, -1.70283809e-01, -2.27700360e-03,\n",
       "        6.95661977e-02,  1.28960907e-01,  9.82260928e-02, -1.62875295e-01,\n",
       "       -6.61651939e-02, -6.57973066e-02, -2.20665902e-01, -2.19903201e-01,\n",
       "        2.49617532e-01, -1.22566685e-01, -2.43873000e-02,  5.81220910e-02,\n",
       "       -9.73137990e-02,  8.46830979e-02, -1.93863995e-02, -3.40634026e-02,\n",
       "        4.11038324e-02,  1.04070303e-03, -2.44519398e-01, -7.42121786e-02,\n",
       "       -2.05502696e-02, -1.36740610e-01, -1.79661065e-02, -3.34650204e-02,\n",
       "       -1.71799737e-03,  9.06853080e-02, -1.84023887e-01, -3.79158966e-02,\n",
       "        8.22189897e-02, -2.97143999e-02, -1.22050606e-01,  2.19747186e-01,\n",
       "        1.24339911e-03, -4.42980006e-02,  4.94531021e-02,  6.51129037e-02,\n",
       "       -2.03805014e-01, -9.58036035e-02,  5.46287838e-03, -2.62721982e-02,\n",
       "       -2.67327130e-01, -1.27919510e-01, -5.87906949e-02,  4.40604016e-02,\n",
       "       -3.82757969e-02, -2.14306325e-01,  2.17245705e-02,  1.91381589e-01,\n",
       "        9.11766440e-02,  1.04579903e-01,  2.22890005e-02,  1.22015893e-01,\n",
       "        2.41668016e-01,  6.54914975e-02,  1.11223601e-01,  1.52323812e-01,\n",
       "        1.05495498e-01,  1.50029976e-02, -7.45900255e-03,  2.52771914e-01,\n",
       "        7.21180160e-03,  2.15593696e-01, -4.86202016e-02,  8.76108035e-02,\n",
       "        1.59909728e-03, -3.02991450e-01,  4.64161575e-01, -5.19336998e-01,\n",
       "        2.41972089e-01,  6.13422021e-02,  3.93464044e-02, -1.57204300e-01,\n",
       "       -8.71101022e-02,  4.95168045e-02,  1.86434805e-01, -4.48243991e-02,\n",
       "        8.95531103e-02, -8.42719004e-02, -2.10029691e-01,  4.67415154e-03,\n",
       "       -7.31713027e-02,  1.24438973e-02, -4.64737006e-02,  8.91823918e-02,\n",
       "        8.42476934e-02, -3.74022186e-01,  1.86164618e-01, -1.97203204e-01,\n",
       "       -1.07498899e-01,  3.10174935e-02,  3.79868001e-02, -3.31584901e-01,\n",
       "        6.90573007e-02, -1.64555818e-01,  2.58914940e-02,  2.82696187e-02,\n",
       "        7.95385987e-02, -1.52015910e-01, -7.39784986e-02, -2.05496594e-01,\n",
       "        2.29602501e-01, -4.05730978e-02,  1.47366315e-01, -2.39087604e-02,\n",
       "        1.36348993e-01,  2.41565034e-01,  7.98361972e-02, -1.09124504e-01,\n",
       "        3.40560973e-02,  2.01191783e-01,  6.58226013e-02, -1.21384785e-01,\n",
       "       -1.01797700e-01,  5.57883009e-02,  1.54356092e-01, -1.93061978e-02,\n",
       "       -1.07316393e-02, -1.19118690e-01,  1.02155991e-02,  2.99190041e-02,\n",
       "       -1.96312296e+00,  1.89513713e-01,  1.79840192e-01, -5.70097975e-02,\n",
       "       -1.69075578e-01,  5.07270992e-02, -2.57553101e-01,  2.15709209e-01,\n",
       "       -1.71281114e-01, -1.75767615e-01, -1.16758861e-01,  5.16839791e-03,\n",
       "        1.10102497e-01,  4.06535231e-02,  4.70894054e-02, -3.38327624e-02,\n",
       "        8.28426927e-02, -1.72305301e-01,  4.63208035e-02, -1.57142818e-01,\n",
       "        1.14259422e-01,  6.53776824e-02, -5.56500033e-02, -3.60210016e-02,\n",
       "       -1.58708408e-01, -1.25836417e-01, -2.86547989e-02, -1.21262297e-01,\n",
       "        5.19215055e-02,  9.98882875e-02, -9.25150663e-02, -5.55063002e-02,\n",
       "       -7.56574050e-02, -3.31438720e-01, -6.17748015e-02, -5.69973961e-02,\n",
       "       -1.69098601e-01,  7.61052147e-02, -1.32094041e-01, -1.82865724e-01,\n",
       "       -1.04385398e-01, -2.45144606e-01, -3.11607897e-01, -1.92192011e-02,\n",
       "       -2.10642014e-02, -1.08985804e-01, -4.61359024e-02, -9.60791036e-02,\n",
       "        1.48033202e-01, -3.41827050e-02,  2.37208098e-01,  4.38595042e-02,\n",
       "       -1.23736061e-01, -2.29128003e-01,  6.63358271e-02,  2.62952149e-02,\n",
       "        9.01539996e-02, -4.47549015e-01,  5.93662970e-02,  1.02257296e-01,\n",
       "       -7.26632029e-02, -4.47535478e-02, -8.46844018e-02, -9.82738957e-02,\n",
       "        2.32931018e-01, -9.56169963e-02,  1.61939003e-02,  1.79748591e-02,\n",
       "        1.08502910e-01, -2.35409979e-02, -2.28866294e-01, -7.84642994e-02,\n",
       "       -4.55398969e-02, -1.22634575e-01,  6.03128001e-02, -2.46870844e-03,\n",
       "       -4.46963981e-02, -1.64788455e-01, -1.58091113e-01,  2.11924881e-01,\n",
       "        5.58625050e-02,  7.96644241e-02,  6.50961995e-02,  7.68850967e-02,\n",
       "        5.36101982e-02,  8.59655589e-02, -3.74983028e-02,  1.27886683e-01,\n",
       "       -1.31363990e-02, -1.70539111e-01, -1.59239098e-01,  2.37399334e-04,\n",
       "        9.40410048e-03,  7.66656995e-02, -1.40789598e-01, -3.88328061e-02,\n",
       "       -4.48612049e-02, -9.75237936e-02, -1.43136606e-01,  2.40634203e-01,\n",
       "        6.68846592e-02,  3.29151973e-02,  8.61798995e-04,  1.60473198e-01,\n",
       "        6.17736876e-02, -5.32663986e-02,  3.86930034e-02, -1.15156509e-01,\n",
       "       -1.28267497e-01,  3.47142816e-01,  1.77730337e-01, -7.50264674e-02,\n",
       "       -2.41367891e-01, -7.63077959e-02,  5.63601069e-02,  6.15846030e-02,\n",
       "        1.98037978e-02, -1.59354806e-01, -2.47935608e-01, -5.34508005e-02,\n",
       "        8.34564120e-02,  6.73134923e-02,  1.55725539e-01,  2.02691004e-01,\n",
       "       -7.52205998e-02, -1.80674702e-01,  3.91297042e-02,  1.40732482e-01,\n",
       "        2.96119273e-01,  1.48451492e-01, -7.95972794e-02, -1.17577210e-01,\n",
       "       -1.34585872e-01,  5.00149950e-02, -6.29687756e-02,  1.01508178e-01,\n",
       "       -2.52910964e-02,  1.05799986e-02,  1.21197850e-03,  2.82197982e-01,\n",
       "        6.49179965e-02, -1.94939211e-01, -5.27957901e-02, -1.15480915e-01,\n",
       "       -7.52284005e-02,  1.22154749e-03,  1.09408841e-01, -8.16149730e-03,\n",
       "        1.24520399e-01,  3.83752137e-02, -4.58979979e-02,  1.78091023e-02,\n",
       "       -2.33307078e-01, -5.94186001e-02,  2.57396430e-01, -8.19552019e-02,\n",
       "        8.33129697e-03,  2.81928983e-02, -5.81340976e-02,  1.85881600e-01],\n",
       "      dtype=float32)"
      ]
     },
     "execution_count": 3,
     "metadata": {},
     "output_type": "execute_result"
    }
   ],
   "source": [
    "doc.vector"
   ]
  },
  {
   "cell_type": "code",
   "execution_count": 4,
   "id": "blocked-memory",
   "metadata": {},
   "outputs": [
    {
     "data": {
      "text/plain": [
       "300"
      ]
     },
     "execution_count": 4,
     "metadata": {},
     "output_type": "execute_result"
    }
   ],
   "source": [
    "doc.vector.size"
   ]
  },
  {
   "cell_type": "code",
   "execution_count": 5,
   "id": "discrete-oxygen",
   "metadata": {},
   "outputs": [
    {
     "name": "stdout",
     "output_type": "stream",
     "text": [
      "2021-02-14 16:02:49,309 - kedro.io.data_catalog - INFO - Loading data from `normalized_reviews` (CSVDataSet)...\n"
     ]
    },
    {
     "data": {
      "text/html": [
       "<div>\n",
       "<style scoped>\n",
       "    .dataframe tbody tr th:only-of-type {\n",
       "        vertical-align: middle;\n",
       "    }\n",
       "\n",
       "    .dataframe tbody tr th {\n",
       "        vertical-align: top;\n",
       "    }\n",
       "\n",
       "    .dataframe thead th {\n",
       "        text-align: right;\n",
       "    }\n",
       "</style>\n",
       "<table border=\"1\" class=\"dataframe\">\n",
       "  <thead>\n",
       "    <tr style=\"text-align: right;\">\n",
       "      <th></th>\n",
       "      <th>movie_id</th>\n",
       "      <th>review</th>\n",
       "    </tr>\n",
       "  </thead>\n",
       "  <tbody>\n",
       "    <tr>\n",
       "      <th>0</th>\n",
       "      <td>671</td>\n",
       "      <td>Ahh, the magic begins. Harry Potter is an Orph...</td>\n",
       "    </tr>\n",
       "    <tr>\n",
       "      <th>1</th>\n",
       "      <td>674</td>\n",
       "      <td>Do not do so lightly! If chosen, there's no tu...</td>\n",
       "    </tr>\n",
       "    <tr>\n",
       "      <th>2</th>\n",
       "      <td>24428</td>\n",
       "      <td>With a movie like this you wonder how all of t...</td>\n",
       "    </tr>\n",
       "    <tr>\n",
       "      <th>3</th>\n",
       "      <td>38700</td>\n",
       "      <td>The list of what's wrong with 'Bad Boys For Li...</td>\n",
       "    </tr>\n",
       "    <tr>\n",
       "      <th>4</th>\n",
       "      <td>99861</td>\n",
       "      <td>There is a lot going on in this movie but it a...</td>\n",
       "    </tr>\n",
       "  </tbody>\n",
       "</table>\n",
       "</div>"
      ],
      "text/plain": [
       "   movie_id                                             review\n",
       "0       671  Ahh, the magic begins. Harry Potter is an Orph...\n",
       "1       674  Do not do so lightly! If chosen, there's no tu...\n",
       "2     24428  With a movie like this you wonder how all of t...\n",
       "3     38700  The list of what's wrong with 'Bad Boys For Li...\n",
       "4     99861  There is a lot going on in this movie but it a..."
      ]
     },
     "execution_count": 5,
     "metadata": {},
     "output_type": "execute_result"
    }
   ],
   "source": [
    "context.catalog.load(\"normalized_reviews\").head()"
   ]
  },
  {
   "cell_type": "code",
   "execution_count": 6,
   "id": "artificial-facility",
   "metadata": {},
   "outputs": [
    {
     "name": "stdout",
     "output_type": "stream",
     "text": [
      "2021-02-14 16:07:11,227 - kedro.io.data_catalog - INFO - Loading data from `normalized_reviews` (CSVDataSet)...\n"
     ]
    },
    {
     "data": {
      "text/html": [
       "<div>\n",
       "<style scoped>\n",
       "    .dataframe tbody tr th:only-of-type {\n",
       "        vertical-align: middle;\n",
       "    }\n",
       "\n",
       "    .dataframe tbody tr th {\n",
       "        vertical-align: top;\n",
       "    }\n",
       "\n",
       "    .dataframe thead th {\n",
       "        text-align: right;\n",
       "    }\n",
       "</style>\n",
       "<table border=\"1\" class=\"dataframe\">\n",
       "  <thead>\n",
       "    <tr style=\"text-align: right;\">\n",
       "      <th></th>\n",
       "      <th>movie_id</th>\n",
       "      <th>review</th>\n",
       "      <th>vector</th>\n",
       "    </tr>\n",
       "  </thead>\n",
       "  <tbody>\n",
       "    <tr>\n",
       "      <th>0</th>\n",
       "      <td>671</td>\n",
       "      <td>Ahh, the magic begins. Harry Potter is an Orph...</td>\n",
       "      <td>[0.002996429, 0.13640904, -0.11075646, -0.0629...</td>\n",
       "    </tr>\n",
       "    <tr>\n",
       "      <th>1</th>\n",
       "      <td>674</td>\n",
       "      <td>Do not do so lightly! If chosen, there's no tu...</td>\n",
       "      <td>[-0.01773595, 0.15489556, -0.11077953, -0.0398...</td>\n",
       "    </tr>\n",
       "    <tr>\n",
       "      <th>2</th>\n",
       "      <td>24428</td>\n",
       "      <td>With a movie like this you wonder how all of t...</td>\n",
       "      <td>[-0.03624061, 0.13752827, -0.112296075, -0.062...</td>\n",
       "    </tr>\n",
       "    <tr>\n",
       "      <th>3</th>\n",
       "      <td>38700</td>\n",
       "      <td>The list of what's wrong with 'Bad Boys For Li...</td>\n",
       "      <td>[-0.04702732, 0.16806285, -0.14860155, -0.0613...</td>\n",
       "    </tr>\n",
       "    <tr>\n",
       "      <th>4</th>\n",
       "      <td>99861</td>\n",
       "      <td>There is a lot going on in this movie but it a...</td>\n",
       "      <td>[-0.023205638, 0.15370053, -0.13482602, -0.078...</td>\n",
       "    </tr>\n",
       "  </tbody>\n",
       "</table>\n",
       "</div>"
      ],
      "text/plain": [
       "   movie_id                                             review  \\\n",
       "0       671  Ahh, the magic begins. Harry Potter is an Orph...   \n",
       "1       674  Do not do so lightly! If chosen, there's no tu...   \n",
       "2     24428  With a movie like this you wonder how all of t...   \n",
       "3     38700  The list of what's wrong with 'Bad Boys For Li...   \n",
       "4     99861  There is a lot going on in this movie but it a...   \n",
       "\n",
       "                                              vector  \n",
       "0  [0.002996429, 0.13640904, -0.11075646, -0.0629...  \n",
       "1  [-0.01773595, 0.15489556, -0.11077953, -0.0398...  \n",
       "2  [-0.03624061, 0.13752827, -0.112296075, -0.062...  \n",
       "3  [-0.04702732, 0.16806285, -0.14860155, -0.0613...  \n",
       "4  [-0.023205638, 0.15370053, -0.13482602, -0.078...  "
      ]
     },
     "execution_count": 6,
     "metadata": {},
     "output_type": "execute_result"
    }
   ],
   "source": [
    "reviews = context.catalog.load(\"normalized_reviews\").head()\n",
    "reviews[\"vector\"] = reviews[\"review\"].apply(lambda x: nlp(x).vector)\n",
    "reviews.head()"
   ]
  },
  {
   "cell_type": "code",
   "execution_count": null,
   "id": "minor-shepherd",
   "metadata": {},
   "outputs": [],
   "source": []
  }
 ],
 "metadata": {
  "kernelspec": {
   "display_name": "MovieRecommederMLPipeline",
   "language": "python",
   "name": "python3"
  },
  "language_info": {
   "codemirror_mode": {
    "name": "ipython",
    "version": 3
   },
   "file_extension": ".py",
   "mimetype": "text/x-python",
   "name": "python",
   "nbconvert_exporter": "python",
   "pygments_lexer": "ipython3",
   "version": "3.8.5"
  }
 },
 "nbformat": 4,
 "nbformat_minor": 5
}
