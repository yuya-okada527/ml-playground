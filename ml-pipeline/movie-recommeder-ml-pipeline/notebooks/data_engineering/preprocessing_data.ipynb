{
 "cells": [
  {
   "cell_type": "code",
   "execution_count": 1,
   "id": "needed-composition",
   "metadata": {},
   "outputs": [
    {
     "name": "stdout",
     "output_type": "stream",
     "text": [
      "2021-02-14 11:47:33,595 - kedro.io.data_catalog - INFO - Loading data from `reviews` (SQLQueryDataSet)...\n"
     ]
    },
    {
     "data": {
      "text/html": [
       "<div>\n",
       "<style scoped>\n",
       "    .dataframe tbody tr th:only-of-type {\n",
       "        vertical-align: middle;\n",
       "    }\n",
       "\n",
       "    .dataframe tbody tr th {\n",
       "        vertical-align: top;\n",
       "    }\n",
       "\n",
       "    .dataframe thead th {\n",
       "        text-align: right;\n",
       "    }\n",
       "</style>\n",
       "<table border=\"1\" class=\"dataframe\">\n",
       "  <thead>\n",
       "    <tr style=\"text-align: right;\">\n",
       "      <th></th>\n",
       "      <th>movie_id</th>\n",
       "      <th>review</th>\n",
       "    </tr>\n",
       "  </thead>\n",
       "  <tbody>\n",
       "    <tr>\n",
       "      <th>0</th>\n",
       "      <td>24428</td>\n",
       "      <td>With a movie like this you wonder how all of t...</td>\n",
       "    </tr>\n",
       "    <tr>\n",
       "      <th>1</th>\n",
       "      <td>124905</td>\n",
       "      <td>Muito bom.\\r\\nMas tem partes que é uma seca.</td>\n",
       "    </tr>\n",
       "    <tr>\n",
       "      <th>2</th>\n",
       "      <td>124905</td>\n",
       "      <td>Why must Hollywood scriptwriters of some genre...</td>\n",
       "    </tr>\n",
       "    <tr>\n",
       "      <th>3</th>\n",
       "      <td>124905</td>\n",
       "      <td>**Fundamentals, reception.**\\r\\n\\r\\n1. America...</td>\n",
       "    </tr>\n",
       "    <tr>\n",
       "      <th>4</th>\n",
       "      <td>198663</td>\n",
       "      <td>Another forgettable Game of Ender/Hunger Games...</td>\n",
       "    </tr>\n",
       "  </tbody>\n",
       "</table>\n",
       "</div>"
      ],
      "text/plain": [
       "   movie_id                                             review\n",
       "0     24428  With a movie like this you wonder how all of t...\n",
       "1    124905       Muito bom.\\r\\nMas tem partes que é uma seca.\n",
       "2    124905  Why must Hollywood scriptwriters of some genre...\n",
       "3    124905  **Fundamentals, reception.**\\r\\n\\r\\n1. America...\n",
       "4    198663  Another forgettable Game of Ender/Hunger Games..."
      ]
     },
     "execution_count": 1,
     "metadata": {},
     "output_type": "execute_result"
    }
   ],
   "source": [
    "context.catalog.load(\"reviews\").head()"
   ]
  },
  {
   "cell_type": "code",
   "execution_count": 4,
   "id": "civic-serbia",
   "metadata": {},
   "outputs": [
    {
     "name": "stdout",
     "output_type": "stream",
     "text": [
      "2021-02-14 11:50:45,355 - kedro.io.data_catalog - INFO - Loading data from `reviews` (SQLQueryDataSet)...\n"
     ]
    }
   ],
   "source": [
    "reviews = context.catalog.load(\"reviews\")"
   ]
  },
  {
   "cell_type": "code",
   "execution_count": 5,
   "id": "cosmetic-grave",
   "metadata": {},
   "outputs": [
    {
     "name": "stdout",
     "output_type": "stream",
     "text": [
      "<class 'pandas.core.frame.DataFrame'>\n",
      "RangeIndex: 576 entries, 0 to 575\n",
      "Data columns (total 2 columns):\n",
      " #   Column    Non-Null Count  Dtype \n",
      "---  ------    --------------  ----- \n",
      " 0   movie_id  576 non-null    int64 \n",
      " 1   review    576 non-null    object\n",
      "dtypes: int64(1), object(1)\n",
      "memory usage: 9.1+ KB\n"
     ]
    }
   ],
   "source": [
    "reviews.info()"
   ]
  },
  {
   "cell_type": "code",
   "execution_count": 9,
   "id": "empty-kennedy",
   "metadata": {},
   "outputs": [
    {
     "data": {
      "text/plain": [
       "117"
      ]
     },
     "execution_count": 9,
     "metadata": {},
     "output_type": "execute_result"
    }
   ],
   "source": [
    "len(reviews.groupby(\"movie_id\")[\"review\"].apply(list).apply(\" \".join))"
   ]
  },
  {
   "cell_type": "code",
   "execution_count": 15,
   "id": "complex-cologne",
   "metadata": {},
   "outputs": [],
   "source": [
    "concatenated_reviews = reviews.groupby(\"movie_id\")[\"review\"].apply(list).apply(\" \".join)"
   ]
  },
  {
   "cell_type": "code",
   "execution_count": 14,
   "id": "outer-ladder",
   "metadata": {},
   "outputs": [
    {
     "data": {
      "text/html": [
       "<div>\n",
       "<style scoped>\n",
       "    .dataframe tbody tr th:only-of-type {\n",
       "        vertical-align: middle;\n",
       "    }\n",
       "\n",
       "    .dataframe tbody tr th {\n",
       "        vertical-align: top;\n",
       "    }\n",
       "\n",
       "    .dataframe thead th {\n",
       "        text-align: right;\n",
       "    }\n",
       "</style>\n",
       "<table border=\"1\" class=\"dataframe\">\n",
       "  <thead>\n",
       "    <tr style=\"text-align: right;\">\n",
       "      <th></th>\n",
       "      <th>movie_id</th>\n",
       "      <th>concatenated_review</th>\n",
       "    </tr>\n",
       "    <tr>\n",
       "      <th>movie_id</th>\n",
       "      <th></th>\n",
       "      <th></th>\n",
       "    </tr>\n",
       "  </thead>\n",
       "  <tbody>\n",
       "    <tr>\n",
       "      <th>671</th>\n",
       "      <td>671</td>\n",
       "      <td>Ahh, the magic begins.\\r\\n\\r\\nHarry Potter is ...</td>\n",
       "    </tr>\n",
       "    <tr>\n",
       "      <th>674</th>\n",
       "      <td>674</td>\n",
       "      <td>Do not do so lightly! If chosen, there's no tu...</td>\n",
       "    </tr>\n",
       "    <tr>\n",
       "      <th>24428</th>\n",
       "      <td>24428</td>\n",
       "      <td>With a movie like this you wonder how all of t...</td>\n",
       "    </tr>\n",
       "    <tr>\n",
       "      <th>38700</th>\n",
       "      <td>38700</td>\n",
       "      <td>The list of what's wrong with 'Bad Boys For Li...</td>\n",
       "    </tr>\n",
       "    <tr>\n",
       "      <th>99861</th>\n",
       "      <td>99861</td>\n",
       "      <td>There is a lot going on in this movie but it a...</td>\n",
       "    </tr>\n",
       "  </tbody>\n",
       "</table>\n",
       "</div>"
      ],
      "text/plain": [
       "          movie_id                                concatenated_review\n",
       "movie_id                                                             \n",
       "671            671  Ahh, the magic begins.\\r\\n\\r\\nHarry Potter is ...\n",
       "674            674  Do not do so lightly! If chosen, there's no tu...\n",
       "24428        24428  With a movie like this you wonder how all of t...\n",
       "38700        38700  The list of what's wrong with 'Bad Boys For Li...\n",
       "99861        99861  There is a lot going on in this movie but it a..."
      ]
     },
     "execution_count": 14,
     "metadata": {},
     "output_type": "execute_result"
    }
   ],
   "source": [
    "import pandas as pd\n",
    "\n",
    "df = pd.DataFrame({\"movie_id\": concatenated_reviews.index, \"concatenated_review\": concatenated_reviews})\n",
    "df.head()"
   ]
  },
  {
   "cell_type": "code",
   "execution_count": null,
   "id": "headed-shoulder",
   "metadata": {},
   "outputs": [],
   "source": []
  }
 ],
 "metadata": {
  "kernelspec": {
   "display_name": "MovieRecommederMLPipeline",
   "language": "python",
   "name": "python3"
  },
  "language_info": {
   "codemirror_mode": {
    "name": "ipython",
    "version": 3
   },
   "file_extension": ".py",
   "mimetype": "text/x-python",
   "name": "python",
   "nbconvert_exporter": "python",
   "pygments_lexer": "ipython3",
   "version": "3.8.5"
  }
 },
 "nbformat": 4,
 "nbformat_minor": 5
}
