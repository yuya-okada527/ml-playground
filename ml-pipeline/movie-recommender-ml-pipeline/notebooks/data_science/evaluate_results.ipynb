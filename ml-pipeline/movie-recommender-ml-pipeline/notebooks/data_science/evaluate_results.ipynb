{
 "cells": [
  {
   "cell_type": "code",
   "execution_count": 1,
   "id": "engaged-onion",
   "metadata": {},
   "outputs": [
    {
     "name": "stdout",
     "output_type": "stream",
     "text": [
      "2021-02-17 20:53:42,343 - kedro.io.data_catalog - INFO - Loading data from `similar_movies` (CSVDataSet)...\n",
      "2021-02-17 20:53:42,367 - kedro.io.data_catalog - INFO - Loading data from `test_data` (CSVDataSet)...\n"
     ]
    }
   ],
   "source": [
    "similar_movies = context.catalog.load(\"similar_movies\")\n",
    "test_data = context.catalog.load(\"test_data\")"
   ]
  },
  {
   "cell_type": "code",
   "execution_count": 2,
   "id": "specified-tsunami",
   "metadata": {},
   "outputs": [
    {
     "data": {
      "text/html": [
       "<div>\n",
       "<style scoped>\n",
       "    .dataframe tbody tr th:only-of-type {\n",
       "        vertical-align: middle;\n",
       "    }\n",
       "\n",
       "    .dataframe tbody tr th {\n",
       "        vertical-align: top;\n",
       "    }\n",
       "\n",
       "    .dataframe thead th {\n",
       "        text-align: right;\n",
       "    }\n",
       "</style>\n",
       "<table border=\"1\" class=\"dataframe\">\n",
       "  <thead>\n",
       "    <tr style=\"text-align: right;\">\n",
       "      <th></th>\n",
       "      <th>movie_id</th>\n",
       "      <th>similar_movie_ids</th>\n",
       "    </tr>\n",
       "  </thead>\n",
       "  <tbody>\n",
       "    <tr>\n",
       "      <th>0</th>\n",
       "      <td>671</td>\n",
       "      <td>[674, 24428, 464052, 141052, 293167]</td>\n",
       "    </tr>\n",
       "    <tr>\n",
       "      <th>1</th>\n",
       "      <td>674</td>\n",
       "      <td>[671, 464052, 545609, 141052, 293167]</td>\n",
       "    </tr>\n",
       "    <tr>\n",
       "      <th>2</th>\n",
       "      <td>24428</td>\n",
       "      <td>[141052, 299537, 299536, 495764, 299534]</td>\n",
       "    </tr>\n",
       "    <tr>\n",
       "      <th>3</th>\n",
       "      <td>38700</td>\n",
       "      <td>[290859, 474350, 299537, 384018, 454626]</td>\n",
       "    </tr>\n",
       "    <tr>\n",
       "      <th>4</th>\n",
       "      <td>99861</td>\n",
       "      <td>[299534, 333339, 299537, 383498, 290859]</td>\n",
       "    </tr>\n",
       "  </tbody>\n",
       "</table>\n",
       "</div>"
      ],
      "text/plain": [
       "   movie_id                         similar_movie_ids\n",
       "0       671      [674, 24428, 464052, 141052, 293167]\n",
       "1       674     [671, 464052, 545609, 141052, 293167]\n",
       "2     24428  [141052, 299537, 299536, 495764, 299534]\n",
       "3     38700  [290859, 474350, 299537, 384018, 454626]\n",
       "4     99861  [299534, 333339, 299537, 383498, 290859]"
      ]
     },
     "execution_count": 2,
     "metadata": {},
     "output_type": "execute_result"
    }
   ],
   "source": [
    "similar_movies.head()"
   ]
  },
  {
   "cell_type": "code",
   "execution_count": 3,
   "id": "scenic-theorem",
   "metadata": {},
   "outputs": [
    {
     "data": {
      "text/plain": [
       "116"
      ]
     },
     "execution_count": 3,
     "metadata": {},
     "output_type": "execute_result"
    }
   ],
   "source": [
    "len(similar_movies)"
   ]
  },
  {
   "cell_type": "code",
   "execution_count": 4,
   "id": "interpreted-archives",
   "metadata": {},
   "outputs": [
    {
     "data": {
      "text/html": [
       "<div>\n",
       "<style scoped>\n",
       "    .dataframe tbody tr th:only-of-type {\n",
       "        vertical-align: middle;\n",
       "    }\n",
       "\n",
       "    .dataframe tbody tr th {\n",
       "        vertical-align: top;\n",
       "    }\n",
       "\n",
       "    .dataframe thead th {\n",
       "        text-align: right;\n",
       "    }\n",
       "</style>\n",
       "<table border=\"1\" class=\"dataframe\">\n",
       "  <thead>\n",
       "    <tr style=\"text-align: right;\">\n",
       "      <th></th>\n",
       "      <th>movie_id</th>\n",
       "      <th>similar_movie_list</th>\n",
       "    </tr>\n",
       "  </thead>\n",
       "  <tbody>\n",
       "    <tr>\n",
       "      <th>0</th>\n",
       "      <td>671</td>\n",
       "      <td>[674, 198663, 287947, 333339, 466282]</td>\n",
       "    </tr>\n",
       "    <tr>\n",
       "      <th>1</th>\n",
       "      <td>674</td>\n",
       "      <td>[671, 198663, 333339, 466282, 568160]</td>\n",
       "    </tr>\n",
       "    <tr>\n",
       "      <th>2</th>\n",
       "      <td>20982</td>\n",
       "      <td>[505262, 568160, 592350, 635302, 655431]</td>\n",
       "    </tr>\n",
       "    <tr>\n",
       "      <th>3</th>\n",
       "      <td>24428</td>\n",
       "      <td>[99861, 141052, 284053, 284054, 287947]</td>\n",
       "    </tr>\n",
       "    <tr>\n",
       "      <th>4</th>\n",
       "      <td>99861</td>\n",
       "      <td>[24428, 141052, 284053, 284054, 287947]</td>\n",
       "    </tr>\n",
       "  </tbody>\n",
       "</table>\n",
       "</div>"
      ],
      "text/plain": [
       "   movie_id                        similar_movie_list\n",
       "0       671     [674, 198663, 287947, 333339, 466282]\n",
       "1       674     [671, 198663, 333339, 466282, 568160]\n",
       "2     20982  [505262, 568160, 592350, 635302, 655431]\n",
       "3     24428   [99861, 141052, 284053, 284054, 287947]\n",
       "4     99861   [24428, 141052, 284053, 284054, 287947]"
      ]
     },
     "execution_count": 4,
     "metadata": {},
     "output_type": "execute_result"
    }
   ],
   "source": [
    "test_data.head()"
   ]
  },
  {
   "cell_type": "code",
   "execution_count": 5,
   "id": "social-platinum",
   "metadata": {},
   "outputs": [
    {
     "data": {
      "text/plain": [
       "66"
      ]
     },
     "execution_count": 5,
     "metadata": {},
     "output_type": "execute_result"
    }
   ],
   "source": [
    "len(test_data)"
   ]
  },
  {
   "cell_type": "code",
   "execution_count": 6,
   "id": "tired-python",
   "metadata": {
    "scrolled": true
   },
   "outputs": [
    {
     "data": {
      "text/plain": [
       "40"
      ]
     },
     "execution_count": 6,
     "metadata": {},
     "output_type": "execute_result"
    }
   ],
   "source": [
    "import pandas as pd\n",
    "\n",
    "compare = pd.merge(similar_movies, test_data)\n",
    "len(compare)"
   ]
  },
  {
   "cell_type": "code",
   "execution_count": 7,
   "id": "contrary-representation",
   "metadata": {},
   "outputs": [],
   "source": [
    "import json\n",
    "\n",
    "compare[\"similar_movie_ids\"] = compare[\"similar_movie_ids\"].apply(json.loads).apply(set)\n",
    "compare[\"similar_movie_list\"] = compare[\"similar_movie_list\"].apply(json.loads).apply(set)"
   ]
  },
  {
   "cell_type": "code",
   "execution_count": 8,
   "id": "intermediate-accreditation",
   "metadata": {},
   "outputs": [
    {
     "data": {
      "text/html": [
       "<div>\n",
       "<style scoped>\n",
       "    .dataframe tbody tr th:only-of-type {\n",
       "        vertical-align: middle;\n",
       "    }\n",
       "\n",
       "    .dataframe tbody tr th {\n",
       "        vertical-align: top;\n",
       "    }\n",
       "\n",
       "    .dataframe thead th {\n",
       "        text-align: right;\n",
       "    }\n",
       "</style>\n",
       "<table border=\"1\" class=\"dataframe\">\n",
       "  <thead>\n",
       "    <tr style=\"text-align: right;\">\n",
       "      <th></th>\n",
       "      <th>movie_id</th>\n",
       "      <th>similar_movie_ids</th>\n",
       "      <th>similar_movie_list</th>\n",
       "      <th>match_num</th>\n",
       "    </tr>\n",
       "  </thead>\n",
       "  <tbody>\n",
       "    <tr>\n",
       "      <th>0</th>\n",
       "      <td>671</td>\n",
       "      <td>{674, 24428, 293167, 464052, 141052}</td>\n",
       "      <td>{674, 198663, 466282, 287947, 333339}</td>\n",
       "      <td>1</td>\n",
       "    </tr>\n",
       "    <tr>\n",
       "      <th>1</th>\n",
       "      <td>674</td>\n",
       "      <td>{545609, 293167, 464052, 141052, 671}</td>\n",
       "      <td>{568160, 198663, 466282, 333339, 671}</td>\n",
       "      <td>1</td>\n",
       "    </tr>\n",
       "    <tr>\n",
       "      <th>2</th>\n",
       "      <td>24428</td>\n",
       "      <td>{299534, 299536, 299537, 495764, 141052}</td>\n",
       "      <td>{287947, 99861, 284054, 284053, 141052}</td>\n",
       "      <td>1</td>\n",
       "    </tr>\n",
       "    <tr>\n",
       "      <th>3</th>\n",
       "      <td>99861</td>\n",
       "      <td>{383498, 290859, 299534, 299537, 333339}</td>\n",
       "      <td>{287947, 24428, 284053, 284054, 141052}</td>\n",
       "      <td>0</td>\n",
       "    </tr>\n",
       "    <tr>\n",
       "      <th>4</th>\n",
       "      <td>141052</td>\n",
       "      <td>{475557, 287947, 24428, 429617, 495764}</td>\n",
       "      <td>{287947, 24428, 99861, 284054, 284053}</td>\n",
       "      <td>2</td>\n",
       "    </tr>\n",
       "  </tbody>\n",
       "</table>\n",
       "</div>"
      ],
      "text/plain": [
       "   movie_id                         similar_movie_ids  \\\n",
       "0       671      {674, 24428, 293167, 464052, 141052}   \n",
       "1       674     {545609, 293167, 464052, 141052, 671}   \n",
       "2     24428  {299534, 299536, 299537, 495764, 141052}   \n",
       "3     99861  {383498, 290859, 299534, 299537, 333339}   \n",
       "4    141052   {475557, 287947, 24428, 429617, 495764}   \n",
       "\n",
       "                        similar_movie_list  match_num  \n",
       "0    {674, 198663, 466282, 287947, 333339}          1  \n",
       "1    {568160, 198663, 466282, 333339, 671}          1  \n",
       "2  {287947, 99861, 284054, 284053, 141052}          1  \n",
       "3  {287947, 24428, 284053, 284054, 141052}          0  \n",
       "4   {287947, 24428, 99861, 284054, 284053}          2  "
      ]
     },
     "execution_count": 8,
     "metadata": {},
     "output_type": "execute_result"
    }
   ],
   "source": [
    "compare[\"match_num\"] = compare.apply(lambda x: len(x[\"similar_movie_ids\"] & x[\"similar_movie_list\"]), axis=1)\n",
    "compare.head()"
   ]
  },
  {
   "cell_type": "code",
   "execution_count": 9,
   "id": "proud-determination",
   "metadata": {},
   "outputs": [
    {
     "data": {
      "text/plain": [
       "0.125"
      ]
     },
     "execution_count": 9,
     "metadata": {},
     "output_type": "execute_result"
    }
   ],
   "source": [
    "accuracy = sum(compare[\"match_num\"]) / (len(compare) * 5)\n",
    "accuracy"
   ]
  },
  {
   "cell_type": "code",
   "execution_count": null,
   "id": "private-letters",
   "metadata": {},
   "outputs": [],
   "source": []
  }
 ],
 "metadata": {
  "kernelspec": {
   "display_name": "MovieRecommederMLPipeline",
   "language": "python",
   "name": "python3"
  },
  "language_info": {
   "codemirror_mode": {
    "name": "ipython",
    "version": 3
   },
   "file_extension": ".py",
   "mimetype": "text/x-python",
   "name": "python",
   "nbconvert_exporter": "python",
   "pygments_lexer": "ipython3",
   "version": "3.8.5"
  }
 },
 "nbformat": 4,
 "nbformat_minor": 5
}
