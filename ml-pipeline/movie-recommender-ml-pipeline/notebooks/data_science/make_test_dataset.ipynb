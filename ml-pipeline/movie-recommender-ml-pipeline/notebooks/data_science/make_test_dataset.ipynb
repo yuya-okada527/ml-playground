{
 "cells": [
  {
   "cell_type": "code",
   "execution_count": 2,
   "id": "deluxe-germany",
   "metadata": {},
   "outputs": [
    {
     "name": "stdout",
     "output_type": "stream",
     "text": [
      "2021-02-16 20:58:35,137 - kedro.io.data_catalog - INFO - Loading data from `tmdb_similar_movies` (SQLQueryDataSet)...\n"
     ]
    }
   ],
   "source": [
    "tmdb_similar_movies = context.catalog.load(\"tmdb_similar_movies\")"
   ]
  },
  {
   "cell_type": "code",
   "execution_count": 3,
   "id": "complicated-brazil",
   "metadata": {},
   "outputs": [
    {
     "data": {
      "text/html": [
       "<div>\n",
       "<style scoped>\n",
       "    .dataframe tbody tr th:only-of-type {\n",
       "        vertical-align: middle;\n",
       "    }\n",
       "\n",
       "    .dataframe tbody tr th {\n",
       "        vertical-align: top;\n",
       "    }\n",
       "\n",
       "    .dataframe thead th {\n",
       "        text-align: right;\n",
       "    }\n",
       "</style>\n",
       "<table border=\"1\" class=\"dataframe\">\n",
       "  <thead>\n",
       "    <tr style=\"text-align: right;\">\n",
       "      <th></th>\n",
       "      <th>movie_id</th>\n",
       "      <th>similar_movie_id</th>\n",
       "    </tr>\n",
       "  </thead>\n",
       "  <tbody>\n",
       "    <tr>\n",
       "      <th>0</th>\n",
       "      <td>671</td>\n",
       "      <td>674</td>\n",
       "    </tr>\n",
       "    <tr>\n",
       "      <th>1</th>\n",
       "      <td>671</td>\n",
       "      <td>198663</td>\n",
       "    </tr>\n",
       "    <tr>\n",
       "      <th>2</th>\n",
       "      <td>671</td>\n",
       "      <td>287947</td>\n",
       "    </tr>\n",
       "    <tr>\n",
       "      <th>3</th>\n",
       "      <td>671</td>\n",
       "      <td>333339</td>\n",
       "    </tr>\n",
       "    <tr>\n",
       "      <th>4</th>\n",
       "      <td>671</td>\n",
       "      <td>466282</td>\n",
       "    </tr>\n",
       "  </tbody>\n",
       "</table>\n",
       "</div>"
      ],
      "text/plain": [
       "   movie_id  similar_movie_id\n",
       "0       671               674\n",
       "1       671            198663\n",
       "2       671            287947\n",
       "3       671            333339\n",
       "4       671            466282"
      ]
     },
     "execution_count": 3,
     "metadata": {},
     "output_type": "execute_result"
    }
   ],
   "source": [
    "tmdb_similar_movies.head()"
   ]
  },
  {
   "cell_type": "code",
   "execution_count": 14,
   "id": "ordered-steam",
   "metadata": {},
   "outputs": [],
   "source": [
    "similar_movie_list = tmdb_similar_movies.groupby(\"movie_id\")[\"similar_movie_id\"].apply(list).apply(lambda x: x[:5])"
   ]
  },
  {
   "cell_type": "code",
   "execution_count": 15,
   "id": "spare-russian",
   "metadata": {},
   "outputs": [
    {
     "data": {
      "text/html": [
       "<div>\n",
       "<style scoped>\n",
       "    .dataframe tbody tr th:only-of-type {\n",
       "        vertical-align: middle;\n",
       "    }\n",
       "\n",
       "    .dataframe tbody tr th {\n",
       "        vertical-align: top;\n",
       "    }\n",
       "\n",
       "    .dataframe thead th {\n",
       "        text-align: right;\n",
       "    }\n",
       "</style>\n",
       "<table border=\"1\" class=\"dataframe\">\n",
       "  <thead>\n",
       "    <tr style=\"text-align: right;\">\n",
       "      <th></th>\n",
       "      <th>movie_id</th>\n",
       "      <th>similar_movie_list</th>\n",
       "    </tr>\n",
       "    <tr>\n",
       "      <th>movie_id</th>\n",
       "      <th></th>\n",
       "      <th></th>\n",
       "    </tr>\n",
       "  </thead>\n",
       "  <tbody>\n",
       "    <tr>\n",
       "      <th>671</th>\n",
       "      <td>671</td>\n",
       "      <td>[674, 198663, 287947, 333339, 466282]</td>\n",
       "    </tr>\n",
       "    <tr>\n",
       "      <th>674</th>\n",
       "      <td>674</td>\n",
       "      <td>[671, 198663, 333339, 466282, 568160]</td>\n",
       "    </tr>\n",
       "    <tr>\n",
       "      <th>808</th>\n",
       "      <td>808</td>\n",
       "      <td>[330457, 532067]</td>\n",
       "    </tr>\n",
       "    <tr>\n",
       "      <th>20982</th>\n",
       "      <td>20982</td>\n",
       "      <td>[505262, 568160, 592350, 635302, 655431]</td>\n",
       "    </tr>\n",
       "    <tr>\n",
       "      <th>24428</th>\n",
       "      <td>24428</td>\n",
       "      <td>[99861, 141052, 284053, 284054, 287947]</td>\n",
       "    </tr>\n",
       "  </tbody>\n",
       "</table>\n",
       "</div>"
      ],
      "text/plain": [
       "          movie_id                        similar_movie_list\n",
       "movie_id                                                    \n",
       "671            671     [674, 198663, 287947, 333339, 466282]\n",
       "674            674     [671, 198663, 333339, 466282, 568160]\n",
       "808            808                          [330457, 532067]\n",
       "20982        20982  [505262, 568160, 592350, 635302, 655431]\n",
       "24428        24428   [99861, 141052, 284053, 284054, 287947]"
      ]
     },
     "execution_count": 15,
     "metadata": {},
     "output_type": "execute_result"
    }
   ],
   "source": [
    "import pandas as pd\n",
    "\n",
    "test_data = pd.DataFrame({\n",
    "    \"movie_id\": similar_movie_list.index,\n",
    "    \"similar_movie_list\": similar_movie_list\n",
    "})\n",
    "test_data.head()"
   ]
  },
  {
   "cell_type": "code",
   "execution_count": 13,
   "id": "industrial-senate",
   "metadata": {},
   "outputs": [
    {
     "data": {
      "text/plain": [
       "248"
      ]
     },
     "execution_count": 13,
     "metadata": {},
     "output_type": "execute_result"
    }
   ],
   "source": [
    "test_data.size"
   ]
  },
  {
   "cell_type": "code",
   "execution_count": 21,
   "id": "local-detroit",
   "metadata": {},
   "outputs": [
    {
     "name": "stdout",
     "output_type": "stream",
     "text": [
      "2021-02-16 21:12:51,202 - numexpr.utils - INFO - NumExpr defaulting to 8 threads.\n"
     ]
    },
    {
     "data": {
      "text/html": [
       "<div>\n",
       "<style scoped>\n",
       "    .dataframe tbody tr th:only-of-type {\n",
       "        vertical-align: middle;\n",
       "    }\n",
       "\n",
       "    .dataframe tbody tr th {\n",
       "        vertical-align: top;\n",
       "    }\n",
       "\n",
       "    .dataframe thead th {\n",
       "        text-align: right;\n",
       "    }\n",
       "</style>\n",
       "<table border=\"1\" class=\"dataframe\">\n",
       "  <thead>\n",
       "    <tr style=\"text-align: right;\">\n",
       "      <th></th>\n",
       "      <th>movie_id</th>\n",
       "      <th>similar_movie_list</th>\n",
       "    </tr>\n",
       "    <tr>\n",
       "      <th>movie_id</th>\n",
       "      <th></th>\n",
       "      <th></th>\n",
       "    </tr>\n",
       "  </thead>\n",
       "  <tbody>\n",
       "    <tr>\n",
       "      <th>671</th>\n",
       "      <td>671</td>\n",
       "      <td>[674, 198663, 287947, 333339, 466282]</td>\n",
       "    </tr>\n",
       "    <tr>\n",
       "      <th>674</th>\n",
       "      <td>674</td>\n",
       "      <td>[671, 198663, 333339, 466282, 568160]</td>\n",
       "    </tr>\n",
       "    <tr>\n",
       "      <th>20982</th>\n",
       "      <td>20982</td>\n",
       "      <td>[505262, 568160, 592350, 635302, 655431]</td>\n",
       "    </tr>\n",
       "    <tr>\n",
       "      <th>24428</th>\n",
       "      <td>24428</td>\n",
       "      <td>[99861, 141052, 284053, 284054, 287947]</td>\n",
       "    </tr>\n",
       "    <tr>\n",
       "      <th>99861</th>\n",
       "      <td>99861</td>\n",
       "      <td>[24428, 141052, 284053, 284054, 287947]</td>\n",
       "    </tr>\n",
       "    <tr>\n",
       "      <th>...</th>\n",
       "      <td>...</td>\n",
       "      <td>...</td>\n",
       "    </tr>\n",
       "    <tr>\n",
       "      <th>655431</th>\n",
       "      <td>655431</td>\n",
       "      <td>[38700, 274855, 399579, 535292, 631132]</td>\n",
       "    </tr>\n",
       "    <tr>\n",
       "      <th>656563</th>\n",
       "      <td>656563</td>\n",
       "      <td>[333339, 398818, 466282, 537915, 565426]</td>\n",
       "    </tr>\n",
       "    <tr>\n",
       "      <th>721656</th>\n",
       "      <td>721656</td>\n",
       "      <td>[671, 398818, 454626, 513584, 615677]</td>\n",
       "    </tr>\n",
       "    <tr>\n",
       "      <th>732450</th>\n",
       "      <td>732450</td>\n",
       "      <td>[24428, 99861, 141052, 284053, 284054]</td>\n",
       "    </tr>\n",
       "    <tr>\n",
       "      <th>775996</th>\n",
       "      <td>775996</td>\n",
       "      <td>[198663, 290859, 333339, 399579, 461130]</td>\n",
       "    </tr>\n",
       "  </tbody>\n",
       "</table>\n",
       "<p>66 rows × 2 columns</p>\n",
       "</div>"
      ],
      "text/plain": [
       "          movie_id                        similar_movie_list\n",
       "movie_id                                                    \n",
       "671            671     [674, 198663, 287947, 333339, 466282]\n",
       "674            674     [671, 198663, 333339, 466282, 568160]\n",
       "20982        20982  [505262, 568160, 592350, 635302, 655431]\n",
       "24428        24428   [99861, 141052, 284053, 284054, 287947]\n",
       "99861        99861   [24428, 141052, 284053, 284054, 287947]\n",
       "...            ...                                       ...\n",
       "655431      655431   [38700, 274855, 399579, 535292, 631132]\n",
       "656563      656563  [333339, 398818, 466282, 537915, 565426]\n",
       "721656      721656     [671, 398818, 454626, 513584, 615677]\n",
       "732450      732450    [24428, 99861, 141052, 284053, 284054]\n",
       "775996      775996  [198663, 290859, 333339, 399579, 461130]\n",
       "\n",
       "[66 rows x 2 columns]"
      ]
     },
     "execution_count": 21,
     "metadata": {},
     "output_type": "execute_result"
    }
   ],
   "source": [
    "test_data[test_data.apply(lambda x: len(x[\"similar_movie_list\"]), axis=1) == 5]"
   ]
  },
  {
   "cell_type": "code",
   "execution_count": null,
   "id": "separated-victory",
   "metadata": {},
   "outputs": [],
   "source": []
  }
 ],
 "metadata": {
  "kernelspec": {
   "display_name": "MovieRecommederMLPipeline",
   "language": "python",
   "name": "python3"
  },
  "language_info": {
   "codemirror_mode": {
    "name": "ipython",
    "version": 3
   },
   "file_extension": ".py",
   "mimetype": "text/x-python",
   "name": "python",
   "nbconvert_exporter": "python",
   "pygments_lexer": "ipython3",
   "version": "3.8.5"
  }
 },
 "nbformat": 4,
 "nbformat_minor": 5
}
